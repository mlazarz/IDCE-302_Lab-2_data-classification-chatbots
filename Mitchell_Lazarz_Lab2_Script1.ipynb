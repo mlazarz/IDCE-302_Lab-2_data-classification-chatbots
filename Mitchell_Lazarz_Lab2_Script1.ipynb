{
  "nbformat": 4,
  "nbformat_minor": 0,
  "metadata": {
    "colab": {
      "name": "Mitchell_Lazarz_Lab2_Script1.ipynb",
      "provenance": [],
      "collapsed_sections": [],
      "authorship_tag": "ABX9TyObQJ4K1bKZjlpYhmwjv4KU",
      "include_colab_link": true
    },
    "kernelspec": {
      "name": "python3",
      "display_name": "Python 3"
    }
  },
  "cells": [
    {
      "cell_type": "markdown",
      "metadata": {
        "id": "view-in-github",
        "colab_type": "text"
      },
      "source": [
        "<a href=\"https://colab.research.google.com/github/IDCE-MSGIS/lab2-data-classification-chatbots-mlazarz/blob/master/Mitchell_Lazarz_Lab2_Script1.ipynb\" target=\"_parent\"><img src=\"https://colab.research.google.com/assets/colab-badge.svg\" alt=\"Open In Colab\"/></a>"
      ]
    },
    {
      "cell_type": "code",
      "metadata": {
        "id": "32ZZnbbakRHg",
        "colab_type": "code",
        "colab": {
          "base_uri": "https://localhost:8080/",
          "height": 51
        },
        "outputId": "37bbb6db-00c5-47f6-a6fe-627d882e308b"
      },
      "source": [
        "\"\"\"\n",
        "Author: Mitchell Lazarz\n",
        "Creation Date: 4 September 2020\n",
        "Description: This code returns a message stating if the temperature is \n",
        "Hot, Warm, Cool, or Cold based on a user's input of degrees Fahrenheit by\n",
        "creating four temperature categories.\n",
        "\"\"\"\n",
        "\n",
        "# This line assigns the variable temp to a user input\n",
        "temp=float(input(\"Enter temperature in Fahrenheit here:\"))\n",
        "\n",
        "# This line creates a function\n",
        "def feelTemp(temp):\n",
        "  if temp>=100:                   # Temperature range is established for \"Hot\" class, greater than or equal 100 degrees F\n",
        "    print(\"It is hot.\")           # \"Hot\" message is returned if condition is met\n",
        "  elif temp<100 and temp>=70:     # Temperature range is established for \"Warm\" class, between 70 and 100 degrees F\n",
        "    print(\"It is warm.\")          # \"Warm\" message is returned if condition is met\n",
        "  elif temp<70 and temp>=32:      # Temperature range is established for \"Cool\" class, between 32 and 70 degrees F\n",
        "    print(\"It is cool.\")          # \"Cool\" message is returned is condition is met\n",
        "  else:\n",
        "    print(\"It is cold.\")          # \"Cold\" message is returned for all other input values, less than 32 degrees F\n",
        "\n",
        "# This line calls the function feelTemp\n",
        "feelTemp(temp)"
      ],
      "execution_count": 3,
      "outputs": [
        {
          "output_type": "stream",
          "text": [
            "Enter temperature in Fahrenheit here:-100\n",
            "It is cold.\n"
          ],
          "name": "stdout"
        }
      ]
    }
  ]
}