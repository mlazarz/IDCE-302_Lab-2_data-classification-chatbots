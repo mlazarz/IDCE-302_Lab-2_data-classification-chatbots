{
  "nbformat": 4,
  "nbformat_minor": 0,
  "metadata": {
    "colab": {
      "name": "Mitchell_Lazarz_Lab2_Script2.ipynb",
      "provenance": [],
      "collapsed_sections": [],
      "authorship_tag": "ABX9TyP733+HN1cxXcEG0moqTJea",
      "include_colab_link": true
    },
    "kernelspec": {
      "name": "python3",
      "display_name": "Python 3"
    }
  },
  "cells": [
    {
      "cell_type": "markdown",
      "metadata": {
        "id": "view-in-github",
        "colab_type": "text"
      },
      "source": [
        "<a href=\"https://colab.research.google.com/github/IDCE-MSGIS/lab2-data-classification-chatbots-mlazarz/blob/master/Mitchell_Lazarz_Lab2_Script2.ipynb\" target=\"_parent\"><img src=\"https://colab.research.google.com/assets/colab-badge.svg\" alt=\"Open In Colab\"/></a>"
      ]
    },
    {
      "cell_type": "code",
      "metadata": {
        "id": "2dfRyN5fsuq-",
        "colab_type": "code",
        "colab": {
          "base_uri": "https://localhost:8080/",
          "height": 119
        },
        "outputId": "625a0090-5ba4-435e-de49-a832dcff5eeb"
      },
      "source": [
        "\"\"\"\n",
        "Author: Mitchell Lazarz\n",
        "Creation Date: 4 September 2020\n",
        "Description: This code is creates a Chatbot named Mitch that is 30\n",
        "years old and lives in Vermont.  The chatbot asks the user basic questions\n",
        "about their name, age, and location and responds based on the user's answers.\n",
        "\"\"\"\n",
        "\n",
        "# This line assigns a user input to the variable, name, where the user is asked to input their name.\n",
        "name=str(input(\"Hello there, what is your name?\"))\n",
        "\n",
        "# These lines create the function, chat0, which responds based on the user's name input.\n",
        "def chat0(name):\n",
        "  if name==\"Mitch\":                                              # If the user's name is \"Mitch\", \n",
        "    print(\"Hey, that is my name too!\")                           # the Chatbot prints message saying that they have the same name.\n",
        "  else:                                                          # If the user inputs any other name, \n",
        "    print(\"Nice to meet you\",name)                               # the chatbot responds with a unique message with the user's name.\n",
        "\n",
        "# This line calls the function, chat0, assigning the user's name as the parameter.\n",
        "chat0(name)\n",
        "\n",
        "# This line assigns the user input to the question to the variable, age, and converts the input to an integer\n",
        "age=int(input(\"How old are you?\"))\n",
        "\n",
        "# These lines creates the function, chat1, which responds based on the user's age input.\n",
        "def chat1(age):\n",
        "  if age==30:                                                     # If the user inputs \"30\", \n",
        "    print(\"No way! Me too!\")                                      # the chatbot prints that it is the same age as the user.\n",
        "  elif age>30:                                                    # If the user is older than 30,\n",
        "    print(\"You are\", age-30,\"years older than me.\")               # the number of years older than 30 is calculated and printed.\n",
        "  else:                                                           # If the user is younger than 30, \n",
        "    print(\"You are\", 30-age,\"years younger than me.\")             # the number of years younger than 30 is calculated and printed.\n",
        "\n",
        "# This line calls the funtion, chat1, assigning the user's age as the parameter\n",
        "chat1(age)\n",
        "\n",
        "# This line assigns a user input to a question to the variable, loc meaning location\n",
        "loc=str(input(\"Where do you live?\"))\n",
        "\n",
        "# These lines creates the function, chat2, which responds based on the user's location.\n",
        "def chat2(loc):\n",
        "  if loc==\"Vermont\" and age==30 and name==\"Mitch\":                # If the user inputs \"Vermont\" as their location, 30 as their age, and \"Mitch\" as their name,\n",
        "    print(\"Looks like I am talking to myself again.\")             # a statement is printed saying that the creator is using the Chatbot.\n",
        "  elif loc==\"Worcester\":                                          # If the user inputs \"Worcester\" as their location,\n",
        "    print(\"Clark University is a great school!\")                  # a statement about Clark University is printed.\n",
        "  else:\n",
        "    print(\"I hear it is beautiful this time of year in\",loc,\"!\")  # For all other user inputs, a customized message for their given location is printed.\n",
        "\n",
        "# This line calls the chat2 fuction with the user's location as the parameter.\n",
        "chat2(loc)"
      ],
      "execution_count": 7,
      "outputs": [
        {
          "output_type": "stream",
          "text": [
            "Hello there, what is your name?Mitch\n",
            "Hey, that is my name too!\n",
            "How old are you?30\n",
            "No way! Me too!\n",
            "Where do you live?Vermont\n",
            "Looks like I am talking to myself again.\n"
          ],
          "name": "stdout"
        }
      ]
    }
  ]
}